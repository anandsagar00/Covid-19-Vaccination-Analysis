{
 "cells": [
  {
   "cell_type": "code",
   "execution_count": 34,
   "metadata": {},
   "outputs": [],
   "source": [
    "import numpy as np,pandas as pd"
   ]
  },
  {
   "cell_type": "code",
   "execution_count": 35,
   "metadata": {},
   "outputs": [],
   "source": [
    "df=pd.read_csv('country_vaccinations_by_manufacturer.csv')"
   ]
  },
  {
   "cell_type": "code",
   "execution_count": 36,
   "metadata": {},
   "outputs": [
    {
     "data": {
      "text/html": [
       "<div>\n",
       "<style scoped>\n",
       "    .dataframe tbody tr th:only-of-type {\n",
       "        vertical-align: middle;\n",
       "    }\n",
       "\n",
       "    .dataframe tbody tr th {\n",
       "        vertical-align: top;\n",
       "    }\n",
       "\n",
       "    .dataframe thead th {\n",
       "        text-align: right;\n",
       "    }\n",
       "</style>\n",
       "<table border=\"1\" class=\"dataframe\">\n",
       "  <thead>\n",
       "    <tr style=\"text-align: right;\">\n",
       "      <th></th>\n",
       "      <th>location</th>\n",
       "      <th>date</th>\n",
       "      <th>vaccine</th>\n",
       "      <th>total_vaccinations</th>\n",
       "    </tr>\n",
       "  </thead>\n",
       "  <tbody>\n",
       "    <tr>\n",
       "      <th>0</th>\n",
       "      <td>Argentina</td>\n",
       "      <td>2020-12-29</td>\n",
       "      <td>Moderna</td>\n",
       "      <td>2</td>\n",
       "    </tr>\n",
       "    <tr>\n",
       "      <th>1</th>\n",
       "      <td>Argentina</td>\n",
       "      <td>2020-12-29</td>\n",
       "      <td>Oxford/AstraZeneca</td>\n",
       "      <td>3</td>\n",
       "    </tr>\n",
       "    <tr>\n",
       "      <th>2</th>\n",
       "      <td>Argentina</td>\n",
       "      <td>2020-12-29</td>\n",
       "      <td>Sinopharm/Beijing</td>\n",
       "      <td>1</td>\n",
       "    </tr>\n",
       "    <tr>\n",
       "      <th>3</th>\n",
       "      <td>Argentina</td>\n",
       "      <td>2020-12-29</td>\n",
       "      <td>Sputnik V</td>\n",
       "      <td>20481</td>\n",
       "    </tr>\n",
       "    <tr>\n",
       "      <th>4</th>\n",
       "      <td>Argentina</td>\n",
       "      <td>2020-12-30</td>\n",
       "      <td>Moderna</td>\n",
       "      <td>2</td>\n",
       "    </tr>\n",
       "    <tr>\n",
       "      <th>...</th>\n",
       "      <td>...</td>\n",
       "      <td>...</td>\n",
       "      <td>...</td>\n",
       "      <td>...</td>\n",
       "    </tr>\n",
       "    <tr>\n",
       "      <th>35618</th>\n",
       "      <td>European Union</td>\n",
       "      <td>2022-03-29</td>\n",
       "      <td>Oxford/AstraZeneca</td>\n",
       "      <td>67403106</td>\n",
       "    </tr>\n",
       "    <tr>\n",
       "      <th>35619</th>\n",
       "      <td>European Union</td>\n",
       "      <td>2022-03-29</td>\n",
       "      <td>Pfizer/BioNTech</td>\n",
       "      <td>600519998</td>\n",
       "    </tr>\n",
       "    <tr>\n",
       "      <th>35620</th>\n",
       "      <td>European Union</td>\n",
       "      <td>2022-03-29</td>\n",
       "      <td>Sinopharm/Beijing</td>\n",
       "      <td>2301516</td>\n",
       "    </tr>\n",
       "    <tr>\n",
       "      <th>35621</th>\n",
       "      <td>European Union</td>\n",
       "      <td>2022-03-29</td>\n",
       "      <td>Sinovac</td>\n",
       "      <td>1809</td>\n",
       "    </tr>\n",
       "    <tr>\n",
       "      <th>35622</th>\n",
       "      <td>European Union</td>\n",
       "      <td>2022-03-29</td>\n",
       "      <td>Sputnik V</td>\n",
       "      <td>1845103</td>\n",
       "    </tr>\n",
       "  </tbody>\n",
       "</table>\n",
       "<p>35623 rows × 4 columns</p>\n",
       "</div>"
      ],
      "text/plain": [
       "             location        date             vaccine  total_vaccinations\n",
       "0           Argentina  2020-12-29             Moderna                   2\n",
       "1           Argentina  2020-12-29  Oxford/AstraZeneca                   3\n",
       "2           Argentina  2020-12-29   Sinopharm/Beijing                   1\n",
       "3           Argentina  2020-12-29           Sputnik V               20481\n",
       "4           Argentina  2020-12-30             Moderna                   2\n",
       "...               ...         ...                 ...                 ...\n",
       "35618  European Union  2022-03-29  Oxford/AstraZeneca            67403106\n",
       "35619  European Union  2022-03-29     Pfizer/BioNTech           600519998\n",
       "35620  European Union  2022-03-29   Sinopharm/Beijing             2301516\n",
       "35621  European Union  2022-03-29             Sinovac                1809\n",
       "35622  European Union  2022-03-29           Sputnik V             1845103\n",
       "\n",
       "[35623 rows x 4 columns]"
      ]
     },
     "execution_count": 36,
     "metadata": {},
     "output_type": "execute_result"
    }
   ],
   "source": [
    "df"
   ]
  },
  {
   "cell_type": "code",
   "execution_count": 37,
   "metadata": {},
   "outputs": [],
   "source": [
    "country_list=list(df['location'].unique())"
   ]
  },
  {
   "cell_type": "code",
   "execution_count": 58,
   "metadata": {},
   "outputs": [
    {
     "data": {
      "text/plain": [
       "{'location': 'Argentina',\n",
       " 'date': '2020-12-31',\n",
       " 'vaccine': 'Sinopharm/Beijing',\n",
       " 'total_vaccinations': 1}"
      ]
     },
     "execution_count": 58,
     "metadata": {},
     "output_type": "execute_result"
    }
   ],
   "source": [
    "dict(df.iloc[10])"
   ]
  },
  {
   "cell_type": "code",
   "execution_count": 38,
   "metadata": {},
   "outputs": [
    {
     "name": "stdout",
     "output_type": "stream",
     "text": [
      "['Argentina', 'Austria', 'Belgium', 'Bulgaria', 'Chile', 'Croatia', 'Cyprus', 'Czechia', 'Denmark', 'Ecuador', 'Estonia', 'Finland', 'France', 'Germany', 'Hong Kong', 'Hungary', 'Iceland', 'Ireland', 'Italy', 'Japan', 'Latvia', 'Liechtenstein', 'Lithuania', 'Luxembourg', 'Malta', 'Nepal', 'Netherlands', 'Norway', 'Peru', 'Poland', 'Portugal', 'Romania', 'Slovakia', 'Slovenia', 'South Africa', 'South Korea', 'Spain', 'Sweden', 'Switzerland', 'Ukraine', 'United States', 'Uruguay', 'European Union']\n"
     ]
    }
   ],
   "source": [
    "print(country_list)"
   ]
  },
  {
   "cell_type": "code",
   "execution_count": 39,
   "metadata": {},
   "outputs": [],
   "source": [
    "country_list_index={}\n",
    "for countries in country_list:\n",
    "    if(countries not in country_list_index.keys()):\n",
    "        country_list_index[countries]=-1"
   ]
  },
  {
   "cell_type": "code",
   "execution_count": 40,
   "metadata": {},
   "outputs": [],
   "source": [
    "for index, row in df.iterrows():\n",
    "    if(country_list_index[row['location']]==-1):\n",
    "        country_list_index[row['location']]=index"
   ]
  },
  {
   "cell_type": "code",
   "execution_count": 41,
   "metadata": {},
   "outputs": [
    {
     "name": "stdout",
     "output_type": "stream",
     "text": [
      "{'Argentina': 0, 'Austria': 2629, 'Belgium': 2949, 'Bulgaria': 3269, 'Chile': 3504, 'Croatia': 4997, 'Cyprus': 5247, 'Czechia': 5477, 'Denmark': 7138, 'Ecuador': 7392, 'Estonia': 8670, 'Finland': 8907, 'France': 9167, 'Germany': 10819, 'Hong Kong': 13109, 'Hungary': 13893, 'Iceland': 14232, 'Ireland': 14536, 'Italy': 14780, 'Japan': 16419, 'Latvia': 16644, 'Liechtenstein': 18308, 'Lithuania': 18497, 'Luxembourg': 18729, 'Malta': 18972, 'Nepal': 19210, 'Netherlands': 19385, 'Norway': 19705, 'Peru': 19950, 'Poland': 21090, 'Portugal': 21371, 'Romania': 21753, 'Slovakia': 23243, 'Slovenia': 23477, 'South Africa': 23701, 'South Korea': 23751, 'Spain': 25736, 'Sweden': 25988, 'Switzerland': 26244, 'Ukraine': 27630, 'United States': 29121, 'Uruguay': 30313, 'European Union': 31501}\n"
     ]
    }
   ],
   "source": [
    "print(country_list_index)"
   ]
  },
  {
   "cell_type": "code",
   "execution_count": 42,
   "metadata": {},
   "outputs": [],
   "source": [
    "country_list_end_index={}"
   ]
  },
  {
   "cell_type": "code",
   "execution_count": 44,
   "metadata": {},
   "outputs": [],
   "source": [
    "lst=list(country_list_index.values())"
   ]
  },
  {
   "cell_type": "code",
   "execution_count": 45,
   "metadata": {},
   "outputs": [
    {
     "name": "stdout",
     "output_type": "stream",
     "text": [
      "[0, 2629, 2949, 3269, 3504, 4997, 5247, 5477, 7138, 7392, 8670, 8907, 9167, 10819, 13109, 13893, 14232, 14536, 14780, 16419, 16644, 18308, 18497, 18729, 18972, 19210, 19385, 19705, 19950, 21090, 21371, 21753, 23243, 23477, 23701, 23751, 25736, 25988, 26244, 27630, 29121, 30313, 31501]\n"
     ]
    }
   ],
   "source": [
    "print(lst)"
   ]
  },
  {
   "cell_type": "code",
   "execution_count": 46,
   "metadata": {},
   "outputs": [
    {
     "name": "stdout",
     "output_type": "stream",
     "text": [
      "43\n"
     ]
    }
   ],
   "source": [
    "length=len(lst)\n",
    "print(length)"
   ]
  },
  {
   "cell_type": "code",
   "execution_count": 47,
   "metadata": {},
   "outputs": [],
   "source": [
    "i=1\n",
    "for countries in country_list_index.keys():\n",
    "    if(i==43):\n",
    "        country_list_end_index[countries]=35623\n",
    "    else:\n",
    "        country_list_end_index[countries]=lst[i]\n",
    "    i+=1"
   ]
  },
  {
   "cell_type": "code",
   "execution_count": 49,
   "metadata": {},
   "outputs": [
    {
     "name": "stdout",
     "output_type": "stream",
     "text": [
      "{'Argentina': 2629, 'Austria': 2949, 'Belgium': 3269, 'Bulgaria': 3504, 'Chile': 4997, 'Croatia': 5247, 'Cyprus': 5477, 'Czechia': 7138, 'Denmark': 7392, 'Ecuador': 8670, 'Estonia': 8907, 'Finland': 9167, 'France': 10819, 'Germany': 13109, 'Hong Kong': 13893, 'Hungary': 14232, 'Iceland': 14536, 'Ireland': 14780, 'Italy': 16419, 'Japan': 16644, 'Latvia': 18308, 'Liechtenstein': 18497, 'Lithuania': 18729, 'Luxembourg': 18972, 'Malta': 19210, 'Nepal': 19385, 'Netherlands': 19705, 'Norway': 19950, 'Peru': 21090, 'Poland': 21371, 'Portugal': 21753, 'Romania': 23243, 'Slovakia': 23477, 'Slovenia': 23701, 'South Africa': 23751, 'South Korea': 25736, 'Spain': 25988, 'Sweden': 26244, 'Switzerland': 27630, 'Ukraine': 29121, 'United States': 30313, 'Uruguay': 31501, 'European Union': 35623}\n"
     ]
    }
   ],
   "source": [
    "print(country_list_end_index)"
   ]
  },
  {
   "cell_type": "code",
   "execution_count": 50,
   "metadata": {},
   "outputs": [],
   "source": [
    "unique_vaccines=list(df.vaccine.unique())"
   ]
  },
  {
   "cell_type": "code",
   "execution_count": 51,
   "metadata": {},
   "outputs": [],
   "source": [
    "column=['location','date']+unique_vaccines"
   ]
  },
  {
   "cell_type": "code",
   "execution_count": 52,
   "metadata": {},
   "outputs": [
    {
     "name": "stdout",
     "output_type": "stream",
     "text": [
      "['location', 'date', 'Moderna', 'Oxford/AstraZeneca', 'Sinopharm/Beijing', 'Sputnik V', 'CanSino', 'Pfizer/BioNTech', 'Johnson&Johnson', 'Novavax', 'Sinovac', 'Covaxin']\n"
     ]
    }
   ],
   "source": [
    "print(column)"
   ]
  },
  {
   "cell_type": "code",
   "execution_count": 53,
   "metadata": {},
   "outputs": [],
   "source": [
    "organised_df=pd.DataFrame(data=[],columns=column)"
   ]
  },
  {
   "cell_type": "code",
   "execution_count": 54,
   "metadata": {},
   "outputs": [
    {
     "data": {
      "text/html": [
       "<div>\n",
       "<style scoped>\n",
       "    .dataframe tbody tr th:only-of-type {\n",
       "        vertical-align: middle;\n",
       "    }\n",
       "\n",
       "    .dataframe tbody tr th {\n",
       "        vertical-align: top;\n",
       "    }\n",
       "\n",
       "    .dataframe thead th {\n",
       "        text-align: right;\n",
       "    }\n",
       "</style>\n",
       "<table border=\"1\" class=\"dataframe\">\n",
       "  <thead>\n",
       "    <tr style=\"text-align: right;\">\n",
       "      <th></th>\n",
       "      <th>location</th>\n",
       "      <th>date</th>\n",
       "      <th>Moderna</th>\n",
       "      <th>Oxford/AstraZeneca</th>\n",
       "      <th>Sinopharm/Beijing</th>\n",
       "      <th>Sputnik V</th>\n",
       "      <th>CanSino</th>\n",
       "      <th>Pfizer/BioNTech</th>\n",
       "      <th>Johnson&amp;Johnson</th>\n",
       "      <th>Novavax</th>\n",
       "      <th>Sinovac</th>\n",
       "      <th>Covaxin</th>\n",
       "    </tr>\n",
       "  </thead>\n",
       "  <tbody>\n",
       "  </tbody>\n",
       "</table>\n",
       "</div>"
      ],
      "text/plain": [
       "Empty DataFrame\n",
       "Columns: [location, date, Moderna, Oxford/AstraZeneca, Sinopharm/Beijing, Sputnik V, CanSino, Pfizer/BioNTech, Johnson&Johnson, Novavax, Sinovac, Covaxin]\n",
       "Index: []"
      ]
     },
     "execution_count": 54,
     "metadata": {},
     "output_type": "execute_result"
    }
   ],
   "source": [
    "organised_df"
   ]
  },
  {
   "cell_type": "code",
   "execution_count": 71,
   "metadata": {},
   "outputs": [],
   "source": [
    "def organise(loc,dat,organised_df):\n",
    "    si=country_list_index[loc]\n",
    "    ei=country_list_end_index[loc]\n",
    "    freq={'location':loc,'date':dat,'Moderna' :0, 'Oxford/AstraZeneca':0,'Sinopharm/Beijing':0, 'Sputnik V' :0,'CanSino':0,\n",
    " 'Pfizer/BioNTech':0, 'Johnson&Johnson':0, 'Novavax':0, 'Sinovac':0, 'Covaxin':0}\n",
    "    for i in range(si,ei):\n",
    "        all_data=dict(df.iloc[i])\n",
    "        if(all_data['location']==loc and all_data['date']==dat):\n",
    "            freq[all_data['vaccine']]=all_data['total_vaccinations']\n",
    "    organised_df.loc[len(organised_df.index)] = freq       "
   ]
  },
  {
   "cell_type": "code",
   "execution_count": 65,
   "metadata": {},
   "outputs": [],
   "source": [
    "location_list=list(df.location.unique())\n",
    "# print(location_list)\n",
    "date_list=list(df.date.unique())\n",
    "# print(date_list)"
   ]
  },
  {
   "cell_type": "code",
   "execution_count": 72,
   "metadata": {},
   "outputs": [],
   "source": [
    "for locations in location_list:\n",
    "    for dates in date_list:\n",
    "        organise(locations,dates,organised_df)"
   ]
  },
  {
   "cell_type": "code",
   "execution_count": 73,
   "metadata": {},
   "outputs": [
    {
     "data": {
      "text/html": [
       "<div>\n",
       "<style scoped>\n",
       "    .dataframe tbody tr th:only-of-type {\n",
       "        vertical-align: middle;\n",
       "    }\n",
       "\n",
       "    .dataframe tbody tr th {\n",
       "        vertical-align: top;\n",
       "    }\n",
       "\n",
       "    .dataframe thead th {\n",
       "        text-align: right;\n",
       "    }\n",
       "</style>\n",
       "<table border=\"1\" class=\"dataframe\">\n",
       "  <thead>\n",
       "    <tr style=\"text-align: right;\">\n",
       "      <th></th>\n",
       "      <th>location</th>\n",
       "      <th>date</th>\n",
       "      <th>Moderna</th>\n",
       "      <th>Oxford/AstraZeneca</th>\n",
       "      <th>Sinopharm/Beijing</th>\n",
       "      <th>Sputnik V</th>\n",
       "      <th>CanSino</th>\n",
       "      <th>Pfizer/BioNTech</th>\n",
       "      <th>Johnson&amp;Johnson</th>\n",
       "      <th>Novavax</th>\n",
       "      <th>Sinovac</th>\n",
       "      <th>Covaxin</th>\n",
       "    </tr>\n",
       "  </thead>\n",
       "  <tbody>\n",
       "    <tr>\n",
       "      <th>0</th>\n",
       "      <td>Argentina</td>\n",
       "      <td>2020-12-29</td>\n",
       "      <td>2</td>\n",
       "      <td>3</td>\n",
       "      <td>1</td>\n",
       "      <td>20481</td>\n",
       "      <td>0</td>\n",
       "      <td>0</td>\n",
       "      <td>0</td>\n",
       "      <td>0</td>\n",
       "      <td>0</td>\n",
       "      <td>0</td>\n",
       "    </tr>\n",
       "    <tr>\n",
       "      <th>1</th>\n",
       "      <td>Argentina</td>\n",
       "      <td>2020-12-30</td>\n",
       "      <td>2</td>\n",
       "      <td>3</td>\n",
       "      <td>1</td>\n",
       "      <td>40583</td>\n",
       "      <td>0</td>\n",
       "      <td>0</td>\n",
       "      <td>0</td>\n",
       "      <td>0</td>\n",
       "      <td>0</td>\n",
       "      <td>0</td>\n",
       "    </tr>\n",
       "    <tr>\n",
       "      <th>2</th>\n",
       "      <td>Argentina</td>\n",
       "      <td>2020-12-31</td>\n",
       "      <td>2</td>\n",
       "      <td>3</td>\n",
       "      <td>1</td>\n",
       "      <td>43388</td>\n",
       "      <td>0</td>\n",
       "      <td>0</td>\n",
       "      <td>0</td>\n",
       "      <td>0</td>\n",
       "      <td>0</td>\n",
       "      <td>0</td>\n",
       "    </tr>\n",
       "    <tr>\n",
       "      <th>3</th>\n",
       "      <td>Argentina</td>\n",
       "      <td>2021-01-01</td>\n",
       "      <td>2</td>\n",
       "      <td>5</td>\n",
       "      <td>1</td>\n",
       "      <td>43513</td>\n",
       "      <td>0</td>\n",
       "      <td>0</td>\n",
       "      <td>0</td>\n",
       "      <td>0</td>\n",
       "      <td>0</td>\n",
       "      <td>0</td>\n",
       "    </tr>\n",
       "    <tr>\n",
       "      <th>4</th>\n",
       "      <td>Argentina</td>\n",
       "      <td>2021-01-02</td>\n",
       "      <td>2</td>\n",
       "      <td>6</td>\n",
       "      <td>1</td>\n",
       "      <td>46824</td>\n",
       "      <td>0</td>\n",
       "      <td>0</td>\n",
       "      <td>0</td>\n",
       "      <td>0</td>\n",
       "      <td>0</td>\n",
       "      <td>0</td>\n",
       "    </tr>\n",
       "  </tbody>\n",
       "</table>\n",
       "</div>"
      ],
      "text/plain": [
       "    location        date Moderna Oxford/AstraZeneca Sinopharm/Beijing  \\\n",
       "0  Argentina  2020-12-29       2                  3                 1   \n",
       "1  Argentina  2020-12-30       2                  3                 1   \n",
       "2  Argentina  2020-12-31       2                  3                 1   \n",
       "3  Argentina  2021-01-01       2                  5                 1   \n",
       "4  Argentina  2021-01-02       2                  6                 1   \n",
       "\n",
       "  Sputnik V CanSino Pfizer/BioNTech Johnson&Johnson Novavax Sinovac Covaxin  \n",
       "0     20481       0               0               0       0       0       0  \n",
       "1     40583       0               0               0       0       0       0  \n",
       "2     43388       0               0               0       0       0       0  \n",
       "3     43513       0               0               0       0       0       0  \n",
       "4     46824       0               0               0       0       0       0  "
      ]
     },
     "execution_count": 73,
     "metadata": {},
     "output_type": "execute_result"
    }
   ],
   "source": [
    "organised_df.head()"
   ]
  },
  {
   "cell_type": "code",
   "execution_count": 74,
   "metadata": {},
   "outputs": [],
   "source": [
    "organised_df.to_csv('organised_manufacturer.csv',index=False)"
   ]
  },
  {
   "cell_type": "code",
   "execution_count": null,
   "metadata": {},
   "outputs": [],
   "source": []
  }
 ],
 "metadata": {
  "kernelspec": {
   "display_name": "Python 3",
   "language": "python",
   "name": "python3"
  },
  "language_info": {
   "codemirror_mode": {
    "name": "ipython",
    "version": 3
   },
   "file_extension": ".py",
   "mimetype": "text/x-python",
   "name": "python",
   "nbconvert_exporter": "python",
   "pygments_lexer": "ipython3",
   "version": "3.8.8"
  }
 },
 "nbformat": 4,
 "nbformat_minor": 4
}
