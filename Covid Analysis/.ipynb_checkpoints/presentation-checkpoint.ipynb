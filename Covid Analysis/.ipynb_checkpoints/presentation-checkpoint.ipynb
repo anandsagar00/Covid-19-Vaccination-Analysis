{
 "cells": [
  {
   "cell_type": "code",
   "execution_count": 1,
   "metadata": {},
   "outputs": [],
   "source": [
    "import numpy as np\n",
    "import pandas as pd\n",
    "import matplotlib.pyplot as plt\n",
    "import seaborn as sns"
   ]
  },
  {
   "cell_type": "code",
   "execution_count": 3,
   "metadata": {},
   "outputs": [],
   "source": [
    "#loading the dataset\n",
    "dataset=pd.read_csv('covid_dataset_final.csv')"
   ]
  },
  {
   "cell_type": "code",
   "execution_count": 5,
   "metadata": {},
   "outputs": [
    {
     "data": {
      "text/plain": [
       "(183316, 71)"
      ]
     },
     "execution_count": 5,
     "metadata": {},
     "output_type": "execute_result"
    }
   ],
   "source": [
    "#the data set has 183316 rows and 71 features as of now but we may extract certain new features in future\n",
    "dataset.shape"
   ]
  },
  {
   "cell_type": "markdown",
   "metadata": {},
   "source": [
    "# Features "
   ]
  },
  {
   "cell_type": "markdown",
   "metadata": {},
   "source": [
    "## 1. iso_code"
   ]
  },
  {
   "cell_type": "code",
   "execution_count": 7,
   "metadata": {},
   "outputs": [
    {
     "data": {
      "text/plain": [
       "count     183316\n",
       "unique       243\n",
       "top          ARG\n",
       "freq        1279\n",
       "Name: iso_code, dtype: object"
      ]
     },
     "execution_count": 7,
     "metadata": {},
     "output_type": "execute_result"
    }
   ],
   "source": [
    "#A total of 243 unique values,The ISO country codes are internationally recognized codes that designate every country\n",
    "dataset.iso_code.describe()"
   ]
  },
  {
   "cell_type": "markdown",
   "metadata": {},
   "source": [
    "## 2. Continent"
   ]
  },
  {
   "cell_type": "code",
   "execution_count": 13,
   "metadata": {},
   "outputs": [
    {
     "name": "stdout",
     "output_type": "stream",
     "text": [
      "Continents : \n",
      "\n",
      " ['Asia', nan, 'Europe', 'Africa', 'North America', 'South America', 'Oceania'] \n",
      "\n"
     ]
    },
    {
     "data": {
      "text/plain": [
       "count     163394\n",
       "unique         6\n",
       "top       Africa\n",
       "freq       40957\n",
       "Name: continent, dtype: object"
      ]
     },
     "execution_count": 13,
     "metadata": {},
     "output_type": "execute_result"
    }
   ],
   "source": [
    "#We have a total data of several countries from 6 continents except for Antarctica\n",
    "#We will use the continent details to analyse at one more upper level i.e continent wise analysis\n",
    "\n",
    "'''Oceania is a geographic region that includes Australasia, Melanesia, Micronesia and Polynesia.\n",
    "Spanning the Eastern and Western Hemispheres'''\n",
    "\n",
    "print(\"Continents : \\n\\n\",list(dataset.continent.unique()),\"\\n\")\n",
    "dataset.continent.describe()"
   ]
  },
  {
   "cell_type": "markdown",
   "metadata": {},
   "source": [
    "## 3. Location"
   ]
  },
  {
   "cell_type": "code",
   "execution_count": 36,
   "metadata": {},
   "outputs": [
    {
     "data": {
      "text/plain": [
       "count     173714\n",
       "unique       239\n",
       "top       Mexico\n",
       "freq         823\n",
       "Name: location, dtype: object"
      ]
     },
     "execution_count": 36,
     "metadata": {},
     "output_type": "execute_result"
    }
   ],
   "source": [
    "#Location are different country/places names\n",
    "#We have a total of 239 country/plcaes data which will help in analysis at far better level\n",
    "\n",
    "# print(\"\\n\\nCountries : \\n\\n \",list(dataset.location.unique()),\"\\n\")\n",
    "\n",
    "dataset.location.describe()"
   ]
  },
  {
   "cell_type": "markdown",
   "metadata": {},
   "source": [
    "## 4. Data related to positive COVID-19 Cases"
   ]
  },
  {
   "cell_type": "markdown",
   "metadata": {},
   "source": [
    "### 4.1 Total_Cases"
   ]
  },
  {
   "cell_type": "code",
   "execution_count": 26,
   "metadata": {},
   "outputs": [
    {
     "data": {
      "text/plain": [
       "count    1.696770e+05\n",
       "mean     2.769817e+06\n",
       "std      1.711460e+07\n",
       "min      1.000000e+00\n",
       "25%      2.215000e+03\n",
       "50%      2.930600e+04\n",
       "75%      3.231600e+05\n",
       "max      4.906608e+08\n",
       "Name: total_cases, dtype: float64"
      ]
     },
     "execution_count": 26,
     "metadata": {},
     "output_type": "execute_result"
    }
   ],
   "source": [
    "#Count of total active cases till that day in that location/country\n",
    "dataset.total_cases.describe()"
   ]
  },
  {
   "cell_type": "markdown",
   "metadata": {},
   "source": [
    "### 4.2 new cases"
   ]
  },
  {
   "cell_type": "code",
   "execution_count": 27,
   "metadata": {},
   "outputs": [
    {
     "data": {
      "text/plain": [
       "count    1.694770e+05\n",
       "mean     1.230845e+04\n",
       "std      8.846091e+04\n",
       "min      0.000000e+00\n",
       "25%      1.000000e+00\n",
       "50%      7.900000e+01\n",
       "75%      1.077000e+03\n",
       "max      4.089078e+06\n",
       "Name: new_cases, dtype: float64"
      ]
     },
     "execution_count": 27,
     "metadata": {},
     "output_type": "execute_result"
    }
   ],
   "source": [
    "#Total new positive covid-19 cases reported on a particular date on a particular location\n",
    "dataset.new_cases.describe()"
   ]
  },
  {
   "cell_type": "markdown",
   "metadata": {},
   "source": [
    "### 4.3 Total cases per million"
   ]
  },
  {
   "cell_type": "code",
   "execution_count": 28,
   "metadata": {},
   "outputs": [
    {
     "data": {
      "text/plain": [
       "count    168891.000000\n",
       "mean      33126.088231\n",
       "std       60314.140105\n",
       "min           0.001000\n",
       "25%         659.337500\n",
       "50%        5152.496000\n",
       "75%       41583.150500\n",
       "max      706541.904000\n",
       "Name: total_cases_per_million, dtype: float64"
      ]
     },
     "execution_count": 28,
     "metadata": {},
     "output_type": "execute_result"
    }
   ],
   "source": [
    "#Count of total positive covid cases per million on a particular day in a particular country\n",
    "dataset.total_cases_per_million.describe()"
   ]
  },
  {
   "cell_type": "markdown",
   "metadata": {},
   "source": [
    "### 4.4 Total new cases per million"
   ]
  },
  {
   "cell_type": "code",
   "execution_count": 29,
   "metadata": {},
   "outputs": [
    {
     "data": {
      "text/plain": [
       "count    168691.000000\n",
       "mean        179.550771\n",
       "std         739.696280\n",
       "min           0.000000\n",
       "25%           0.033000\n",
       "50%          11.373000\n",
       "75%         103.596000\n",
       "max       51427.491000\n",
       "Name: new_cases_per_million, dtype: float64"
      ]
     },
     "execution_count": 29,
     "metadata": {},
     "output_type": "execute_result"
    }
   ],
   "source": [
    "#Total new cases reported per million people on particular day in a particular country\n",
    "dataset.new_cases_per_million.describe()"
   ]
  },
  {
   "cell_type": "markdown",
   "metadata": {},
   "source": [
    "# 5. Death related data of people due to COVID-19"
   ]
  },
  {
   "cell_type": "markdown",
   "metadata": {},
   "source": [
    "### 5.1 Total Death"
   ]
  },
  {
   "cell_type": "code",
   "execution_count": 35,
   "metadata": {},
   "outputs": [
    {
     "data": {
      "text/plain": [
       "count    1.516070e+05\n",
       "mean     6.000259e+04\n",
       "std      3.139668e+05\n",
       "min      1.000000e+00\n",
       "25%      8.400000e+01\n",
       "50%      8.220000e+02\n",
       "75%      7.670500e+03\n",
       "max      6.151170e+06\n",
       "Name: total_deaths, dtype: float64"
      ]
     },
     "execution_count": 35,
     "metadata": {},
     "output_type": "execute_result"
    }
   ],
   "source": [
    "#count of total deaths due to covid-19 till a particular in a particular country\n",
    "dataset.total_deaths.describe()"
   ]
  },
  {
   "cell_type": "markdown",
   "metadata": {},
   "source": [
    "### 5.2 New Deaths"
   ]
  },
  {
   "cell_type": "code",
   "execution_count": 37,
   "metadata": {},
   "outputs": [
    {
     "data": {
      "text/plain": [
       "count    151618.000000\n",
       "mean        168.316242\n",
       "std         821.579593\n",
       "min           0.000000\n",
       "25%           0.000000\n",
       "50%           2.000000\n",
       "75%          19.000000\n",
       "max       18156.000000\n",
       "Name: new_deaths, dtype: float64"
      ]
     },
     "execution_count": 37,
     "metadata": {},
     "output_type": "execute_result"
    }
   ],
   "source": [
    "#count of new deaths due to covid-19 on a particular date in a particular country\n",
    "dataset.new_deaths.describe()"
   ]
  },
  {
   "cell_type": "markdown",
   "metadata": {},
   "source": [
    "### 5.3 Total deaths per million"
   ]
  },
  {
   "cell_type": "code",
   "execution_count": 39,
   "metadata": {},
   "outputs": [
    {
     "data": {
      "text/plain": [
       "count    150834.000000\n",
       "mean        534.914547\n",
       "std         814.732215\n",
       "min           0.000000\n",
       "25%          19.992000\n",
       "50%         141.907500\n",
       "75%         764.432250\n",
       "max        6363.990000\n",
       "Name: total_deaths_per_million, dtype: float64"
      ]
     },
     "execution_count": 39,
     "metadata": {},
     "output_type": "execute_result"
    }
   ],
   "source": [
    "#count of total deaths per million till a particular date in a particular country due to covid-19\n",
    "dataset.total_deaths_per_million.describe()"
   ]
  },
  {
   "cell_type": "markdown",
   "metadata": {},
   "source": [
    "### 5.4 Total new deaths per million"
   ]
  },
  {
   "cell_type": "code",
   "execution_count": 40,
   "metadata": {},
   "outputs": [
    {
     "data": {
      "text/plain": [
       "count    150845.000000\n",
       "mean          1.669386\n",
       "std           5.137567\n",
       "min           0.000000\n",
       "25%           0.000000\n",
       "50%           0.118000\n",
       "75%           1.358000\n",
       "max         453.772000\n",
       "Name: new_deaths_per_million, dtype: float64"
      ]
     },
     "execution_count": 40,
     "metadata": {},
     "output_type": "execute_result"
    }
   ],
   "source": [
    "#count of total deaths per million on a particular date in a particular country due to covid-19\n",
    "dataset.new_deaths_per_million.describe()"
   ]
  },
  {
   "cell_type": "markdown",
   "metadata": {},
   "source": [
    "# 6. Hospital data"
   ]
  },
  {
   "cell_type": "markdown",
   "metadata": {},
   "source": [
    "## 6.1 Covid Patients' Data"
   ]
  },
  {
   "cell_type": "code",
   "execution_count": 46,
   "metadata": {},
   "outputs": [
    {
     "data": {
      "text/plain": [
       "count     24960.000000\n",
       "mean       4287.762460\n",
       "std       11612.848804\n",
       "min           0.000000\n",
       "25%         140.000000\n",
       "50%         773.500000\n",
       "75%        2967.500000\n",
       "max      154540.000000\n",
       "Name: hosp_patients, dtype: float64"
      ]
     },
     "execution_count": 46,
     "metadata": {},
     "output_type": "execute_result"
    }
   ],
   "source": [
    "#6.1.1\n",
    "\n",
    "#Number of patients in hospital right now on a particular date in a particular loc due to covid-19\n",
    "dataset.hosp_patients.describe()"
   ]
  },
  {
   "cell_type": "code",
   "execution_count": 47,
   "metadata": {},
   "outputs": [
    {
     "data": {
      "text/plain": [
       "count     11394.000000\n",
       "mean       5914.675180\n",
       "std       14498.751913\n",
       "min           0.000000\n",
       "25%         345.000000\n",
       "50%        1393.000000\n",
       "75%        5343.500000\n",
       "max      154002.000000\n",
       "Name: weekly_hosp_admissions, dtype: float64"
      ]
     },
     "execution_count": 47,
     "metadata": {},
     "output_type": "execute_result"
    }
   ],
   "source": [
    "#6.1.2\n",
    "\n",
    "#Number of patients admitted in hospital on a weekly basis on a particular date in a particular loc due to covid-19\n",
    "dataset.weekly_hosp_admissions.describe()"
   ]
  },
  {
   "cell_type": "code",
   "execution_count": 49,
   "metadata": {},
   "outputs": [
    {
     "data": {
      "text/plain": [
       "count    24960.000000\n",
       "mean       170.759845\n",
       "std        208.581058\n",
       "min          0.000000\n",
       "25%         28.800500\n",
       "50%         91.597000\n",
       "75%        232.307500\n",
       "max       1544.082000\n",
       "Name: hosp_patients_per_million, dtype: float64"
      ]
     },
     "execution_count": 49,
     "metadata": {},
     "output_type": "execute_result"
    }
   ],
   "source": [
    "#6.1.3\n",
    "\n",
    "#Number of patients admitted in hospital per million on a particular date in a particular loc due to covid-19\n",
    "dataset.hosp_patients_per_million.describe()"
   ]
  },
  {
   "cell_type": "code",
   "execution_count": 50,
   "metadata": {},
   "outputs": [
    {
     "data": {
      "text/plain": [
       "count    11394.000000\n",
       "mean       105.112701\n",
       "std        107.271152\n",
       "min          0.000000\n",
       "25%         24.925000\n",
       "50%         75.397000\n",
       "75%        144.141000\n",
       "max        645.808000\n",
       "Name: weekly_hosp_admissions_per_million, dtype: float64"
      ]
     },
     "execution_count": 50,
     "metadata": {},
     "output_type": "execute_result"
    }
   ],
   "source": [
    "#6.1.4\n",
    "\n",
    "#Number of patients admitted in hospital per million per week in a particular loc due to covid-19\n",
    "dataset.weekly_hosp_admissions_per_million.describe()"
   ]
  },
  {
   "cell_type": "markdown",
   "metadata": {},
   "source": [
    "## 6.2 Critical patients data"
   ]
  },
  {
   "cell_type": "code",
   "execution_count": 53,
   "metadata": {},
   "outputs": [],
   "source": [
    "'''this data will help us realise that how the number of criticle patients increased or decreases after\n",
    "   vaccination in that country'''"
   ]
  },
  {
   "cell_type": "markdown",
   "metadata": {},
   "source": [
    "### 6.2.1 ICU Patients Data"
   ]
  },
  {
   "cell_type": "code",
   "execution_count": 54,
   "metadata": {},
   "outputs": [
    {
     "data": {
      "text/plain": [
       "count    23548.000000\n",
       "mean       910.592152\n",
       "std       2677.688140\n",
       "min          0.000000\n",
       "25%         30.000000\n",
       "50%        155.000000\n",
       "75%        600.000000\n",
       "max      28891.000000\n",
       "Name: icu_patients, dtype: float64"
      ]
     },
     "execution_count": 54,
     "metadata": {},
     "output_type": "execute_result"
    }
   ],
   "source": [
    "#data of patients in icu on a particular date in a particular country/place\n",
    "\n",
    "dataset.icu_patients.describe()"
   ]
  },
  {
   "cell_type": "code",
   "execution_count": 56,
   "metadata": {},
   "outputs": [
    {
     "data": {
      "text/plain": [
       "count    23548.000000\n",
       "mean        24.048817\n",
       "std         27.686017\n",
       "min          0.000000\n",
       "25%          4.495000\n",
       "50%         13.712000\n",
       "75%         34.678750\n",
       "max        177.282000\n",
       "Name: icu_patients_per_million, dtype: float64"
      ]
     },
     "execution_count": 56,
     "metadata": {},
     "output_type": "execute_result"
    }
   ],
   "source": [
    "#6.2.2\n",
    "\n",
    "#data of icu patients per million on that particular date in that particular place\n",
    "\n",
    "dataset.icu_patients_per_million.describe()"
   ]
  },
  {
   "cell_type": "code",
   "execution_count": 57,
   "metadata": {},
   "outputs": [
    {
     "data": {
      "text/plain": [
       "count    5716.000000\n",
       "mean      466.564206\n",
       "std       624.017787\n",
       "min         0.000000\n",
       "25%        50.750000\n",
       "50%       218.000000\n",
       "75%       659.000000\n",
       "max      4838.000000\n",
       "Name: weekly_icu_admissions, dtype: float64"
      ]
     },
     "execution_count": 57,
     "metadata": {},
     "output_type": "execute_result"
    }
   ],
   "source": [
    "#6.2.3\n",
    "\n",
    "#weekly ICU admission\n",
    "\n",
    "dataset.weekly_icu_admissions.describe()"
   ]
  },
  {
   "cell_type": "code",
   "execution_count": 59,
   "metadata": {},
   "outputs": [
    {
     "data": {
      "text/plain": [
       "count    5716.000000\n",
       "mean       15.260753\n",
       "std        16.288929\n",
       "min         0.000000\n",
       "25%         4.090000\n",
       "50%        10.939500\n",
       "75%        20.112250\n",
       "max       221.212000\n",
       "Name: weekly_icu_admissions_per_million, dtype: float64"
      ]
     },
     "execution_count": 59,
     "metadata": {},
     "output_type": "execute_result"
    }
   ],
   "source": [
    "#6.2.4\n",
    "\n",
    "#Weekly ICU admissions per million\n",
    "\n",
    "dataset.weekly_icu_admissions_per_million.describe()"
   ]
  },
  {
   "cell_type": "markdown",
   "metadata": {},
   "source": [
    "# 7. Covid-19 Test Data"
   ]
  },
  {
   "cell_type": "code",
   "execution_count": null,
   "metadata": {},
   "outputs": [],
   "source": [
    "'''There may be a case later that since people stopped getting themselves tested for covid-19 so the number \n",
    "   of covid-19 cases dropped,so to analyse in more detailed level we have included this attribute'''"
   ]
  },
  {
   "cell_type": "markdown",
   "metadata": {},
   "source": [
    "### 7.1 Total Tests till date"
   ]
  },
  {
   "cell_type": "code",
   "execution_count": 66,
   "metadata": {},
   "outputs": [
    {
     "data": {
      "text/plain": [
       "count    7.150100e+04\n",
       "mean     1.840513e+07\n",
       "std      6.796902e+07\n",
       "min      0.000000e+00\n",
       "25%      3.940530e+05\n",
       "50%      1.981651e+06\n",
       "75%      9.364213e+06\n",
       "max      8.464898e+08\n",
       "Name: total_tests, dtype: float64"
      ]
     },
     "execution_count": 66,
     "metadata": {},
     "output_type": "execute_result"
    }
   ],
   "source": [
    "#number of people who have got themselves tested for covid-19 virus in a center\n",
    "\n",
    "dataset.total_tests.describe()"
   ]
  },
  {
   "cell_type": "markdown",
   "metadata": {},
   "source": [
    "### 7.2 Total new tests "
   ]
  },
  {
   "cell_type": "code",
   "execution_count": 67,
   "metadata": {},
   "outputs": [
    {
     "data": {
      "text/plain": [
       "count    6.904300e+04\n",
       "mean     6.880317e+04\n",
       "std      2.164677e+05\n",
       "min      1.000000e+00\n",
       "25%      2.461000e+03\n",
       "50%      9.428000e+03\n",
       "75%      3.825700e+04\n",
       "max      3.740296e+06\n",
       "Name: new_tests, dtype: float64"
      ]
     },
     "execution_count": 67,
     "metadata": {},
     "output_type": "execute_result"
    }
   ],
   "source": [
    "#number of people who have got tested for covid-19 virus in a center on a particular date and location\n",
    "\n",
    "dataset.new_tests.describe()"
   ]
  },
  {
   "cell_type": "code",
   "execution_count": 70,
   "metadata": {},
   "outputs": [
    {
     "data": {
      "text/plain": [
       "count    71501.000000\n",
       "mean       799.874967\n",
       "std       1961.913392\n",
       "min          0.000000\n",
       "25%         37.735000\n",
       "50%        193.923000\n",
       "75%        759.113000\n",
       "max      31688.973000\n",
       "Name: total_tests_per_thousand, dtype: float64"
      ]
     },
     "execution_count": 70,
     "metadata": {},
     "output_type": "execute_result"
    }
   ],
   "source": [
    "#Total new tests per thousand\n",
    "\n",
    "'''There may come a case that officials stopped doing tests or people stopped coming for getting themselves tested\n",
    "    for tests because of which the details of new cases decresed '''\n",
    "\n",
    "dataset.total_tests_per_thousand.describe()"
   ]
  },
  {
   "cell_type": "code",
   "execution_count": 75,
   "metadata": {},
   "outputs": [
    {
     "data": {
      "text/plain": [
       "count     81886.000000\n",
       "mean        149.514327\n",
       "std        2188.714056\n",
       "min           1.000000\n",
       "25%           7.000000\n",
       "50%          16.900000\n",
       "75%          50.400000\n",
       "max      189932.000000\n",
       "Name: tests_per_case, dtype: float64"
      ]
     },
     "execution_count": 75,
     "metadata": {},
     "output_type": "execute_result"
    }
   ],
   "source": [
    "#Tests per cases \n",
    "\n",
    "'''on an average how many times was covid test done on a person before declaring him/her healthy'''\n",
    "\n",
    "dataset.tests_per_case.describe()"
   ]
  },
  {
   "cell_type": "markdown",
   "metadata": {},
   "source": [
    "## 8. Positive rate"
   ]
  },
  {
   "cell_type": "code",
   "execution_count": 77,
   "metadata": {},
   "outputs": [
    {
     "data": {
      "text/plain": [
       "count    82465.000000\n",
       "mean         0.099483\n",
       "std          0.112780\n",
       "min          0.000000\n",
       "25%          0.019100\n",
       "50%          0.058400\n",
       "75%          0.141000\n",
       "max          0.991200\n",
       "Name: positive_rate, dtype: float64"
      ]
     },
     "execution_count": 77,
     "metadata": {},
     "output_type": "execute_result"
    }
   ],
   "source": [
    "'''Percentage of people who turned out to be positive out of the total people that tested themselves for covid-19'''\n",
    "\n",
    "#we will use this data to detect the trend in positive rate over time before and after vaccination drive\n",
    "\n",
    "dataset.positive_rate.describe()"
   ]
  },
  {
   "cell_type": "markdown",
   "metadata": {},
   "source": [
    "# 9. Vaccination Data"
   ]
  },
  {
   "cell_type": "code",
   "execution_count": 84,
   "metadata": {},
   "outputs": [
    {
     "data": {
      "text/plain": [
       "count    5.712600e+04\n",
       "mean     1.631143e+08\n",
       "std      7.663326e+08\n",
       "min      0.000000e+00\n",
       "25%      8.893698e+05\n",
       "50%      6.435484e+06\n",
       "75%      3.498642e+07\n",
       "max      1.129202e+10\n",
       "Name: total_vaccinations, dtype: float64"
      ]
     },
     "execution_count": 84,
     "metadata": {},
     "output_type": "execute_result"
    }
   ],
   "source": [
    "#Total Vaccinations \n",
    "\n",
    "'''Total number of COVID-19 vaccination doses administered'''\n",
    "\n",
    "dataset.total_vaccinations.describe()"
   ]
  },
  {
   "cell_type": "code",
   "execution_count": 85,
   "metadata": {},
   "outputs": [
    {
     "data": {
      "text/plain": [
       "count    5.477800e+04\n",
       "mean     8.167984e+07\n",
       "std      3.847020e+08\n",
       "min      0.000000e+00\n",
       "25%      5.521165e+05\n",
       "50%      3.871285e+06\n",
       "75%      1.996361e+07\n",
       "max      5.078752e+09\n",
       "Name: people_vaccinated, dtype: float64"
      ]
     },
     "execution_count": 85,
     "metadata": {},
     "output_type": "execute_result"
    }
   ],
   "source": [
    "#people_vaccinated\n",
    "\n",
    "'''Total number of people who received at least one vaccine dose'''\n",
    "\n",
    "dataset.people_vaccinated.describe()"
   ]
  },
  {
   "cell_type": "code",
   "execution_count": 87,
   "metadata": {},
   "outputs": [
    {
     "data": {
      "text/plain": [
       "count    5.212500e+04\n",
       "mean     6.511669e+07\n",
       "std      3.207568e+08\n",
       "min      1.000000e+00\n",
       "25%      4.012940e+05\n",
       "50%      2.932292e+06\n",
       "75%      1.562565e+07\n",
       "max      4.565219e+09\n",
       "Name: people_fully_vaccinated, dtype: float64"
      ]
     },
     "execution_count": 87,
     "metadata": {},
     "output_type": "execute_result"
    }
   ],
   "source": [
    "#people_fully_vaccinated\n",
    "\n",
    "'''Total number of people who received all doses prescribed by the initial vaccination protocol'''\n",
    "\n",
    "dataset.people_fully_vaccinated.describe()"
   ]
  },
  {
   "cell_type": "code",
   "execution_count": 89,
   "metadata": {},
   "outputs": [
    {
     "data": {
      "text/plain": [
       "count    2.009300e+04\n",
       "mean     2.408341e+07\n",
       "std      1.137042e+08\n",
       "min      1.000000e+00\n",
       "25%      3.269000e+03\n",
       "50%      5.557620e+05\n",
       "75%      5.045856e+06\n",
       "max      1.651903e+09\n",
       "Name: total_boosters, dtype: float64"
      ]
     },
     "execution_count": 89,
     "metadata": {},
     "output_type": "execute_result"
    }
   ],
   "source": [
    "#total_boosters\n",
    "\n",
    "'''Total number of COVID-19 vaccination booster doses administered (doses administered beyond the\n",
    "                        number prescribed by the vaccination protocol)'''\n",
    "\n",
    "dataset.total_boosters.describe()"
   ]
  },
  {
   "cell_type": "code",
   "execution_count": 93,
   "metadata": {},
   "outputs": [
    {
     "data": {
      "text/plain": [
       "count    3.931400e+04\n",
       "mean     1.158698e+06\n",
       "std      4.306442e+06\n",
       "min      0.000000e+00\n",
       "25%      6.005250e+03\n",
       "50%      4.066300e+04\n",
       "75%      2.764615e+05\n",
       "max      5.449888e+07\n",
       "Name: new_vaccinations, dtype: float64"
      ]
     },
     "execution_count": 93,
     "metadata": {},
     "output_type": "execute_result"
    }
   ],
   "source": [
    "#new_vaccinations\n",
    "\n",
    "'''New COVID-19 vaccination doses administered (only calculated for consecutive days)'''\n",
    "\n",
    "dataset.new_vaccinations.describe()"
   ]
  },
  {
   "cell_type": "markdown",
   "metadata": {},
   "source": [
    "# 10. Data related to People and Population of that area"
   ]
  },
  {
   "cell_type": "code",
   "execution_count": null,
   "metadata": {},
   "outputs": [],
   "source": [
    "#population \n",
    "\n",
    "'''Population of that region/country/location'''\n",
    "\n",
    "#population_density\n",
    "\n",
    "'''Number of people divided by land area, measured in square kilometers, most recent year available'''\n",
    "                                                #or\n",
    "                        '''measurement of population per unit area'''\n",
    "\n",
    "\n",
    "    '''WE CAN USE THIS DATA TO TRACK HOW VACCINATION PERFORMED IN DENSLY AND SPARSELY POPULATED AREA'''\n",
    "                        '''and what was the condition before vaccination'''"
   ]
  },
  {
   "cell_type": "code",
   "execution_count": 98,
   "metadata": {},
   "outputs": [],
   "source": [
    "#median_age\n",
    "            '''Median age of the population, UN projection for 2020'''\n",
    "#aged_65_older\n",
    "            '''Share of the population that is 65 years and older, most recent year available'''\n",
    "#aged_70_older\n",
    "            '''Share of the population that is 70 years and older in 2015'''"
   ]
  },
  {
   "cell_type": "markdown",
   "metadata": {},
   "source": [
    "# 11. Data related to financial condition of country and people of that area"
   ]
  },
  {
   "cell_type": "code",
   "execution_count": 100,
   "metadata": {},
   "outputs": [],
   "source": [
    "'''This will help in analysing how the vaccines performed in a develoed,under-developed and developing\n",
    "    country,as well as poor vs rich countries'''\n",
    "\n"
   ]
  },
  {
   "cell_type": "code",
   "execution_count": null,
   "metadata": {},
   "outputs": [],
   "source": [
    "#gdp_per_capita\n",
    "'''Gross domestic product at purchasing power parity (constant 2011 international dollars),\n",
    "    most recent year available'''\n",
    "\n",
    "#extreme_poverty\n",
    "\n",
    "'''Share of the population living in extreme poverty, most recent year available since 2010'''"
   ]
  },
  {
   "cell_type": "markdown",
   "metadata": {},
   "source": [
    "# 12. Vaccines"
   ]
  },
  {
   "cell_type": "code",
   "execution_count": null,
   "metadata": {},
   "outputs": [],
   "source": [
    "''''Moderna', 'Oxford/AstraZeneca', 'Sinopharm/Beijing', 'Sputnik V',\n",
    "       'CanSino', 'Pfizer/BioNTech', 'Johnson&Johnson', 'Novavax', 'Sinovac''''\n",
    "\n",
    "#these are the names of the different vaccines being supplied to different countries "
   ]
  }
 ],
 "metadata": {
  "kernelspec": {
   "display_name": "Python 3",
   "language": "python",
   "name": "python3"
  },
  "language_info": {
   "codemirror_mode": {
    "name": "ipython",
    "version": 3
   },
   "file_extension": ".py",
   "mimetype": "text/x-python",
   "name": "python",
   "nbconvert_exporter": "python",
   "pygments_lexer": "ipython3",
   "version": "3.8.8"
  }
 },
 "nbformat": 4,
 "nbformat_minor": 4
}
